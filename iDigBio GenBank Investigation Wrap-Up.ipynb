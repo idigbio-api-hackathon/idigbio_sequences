{
 "cells": [
  {
   "cell_type": "markdown",
   "metadata": {},
   "source": [
    "Let's start out by searching iDigBio for all of the records that have an \"associatedSequences\" field."
   ]
  },
  {
   "cell_type": "code",
   "execution_count": 2,
   "metadata": {
    "collapsed": false
   },
   "outputs": [
    {
     "name": "stdout",
     "output_type": "stream",
     "text": [
      "22161\n"
     ]
    }
   ],
   "source": [
    "import idigbio\n",
    "\n",
    "api = idigbio.json()\n",
    "seq_query = {\"data.dwc:associatedSequences\": {\n",
    "            \"type\":\"exists\"\n",
    "            }\n",
    "        }\n",
    "seq_count = api.count_records(rq=seq_query)\n",
    "print seq_count"
   ]
  },
  {
   "cell_type": "markdown",
   "metadata": {},
   "source": [
    "It looks like only 22,161 records (out of 29,342,343 total records) have an entry for the \"associatedSequences\" field.\n",
    "\n",
    "Now let's try and grab all of the entries so that we can start checking out counts and formats."
   ]
  },
  {
   "cell_type": "code",
   "execution_count": 4,
   "metadata": {
    "collapsed": false
   },
   "outputs": [],
   "source": [
    "import csv\n",
    "\n",
    "PAGE_SIZE = 1000\n",
    "fields = [\"data.dwc:associatedSequences\", \"recordset\"]\n",
    "seq_query = {\"data.dwc:associatedSequences\": {\n",
    "            \"type\":\"exists\"\n",
    "            }\n",
    "        }\n",
    "\n",
    "with open('idigbio_seqs_and_recordsets.tsv', 'wb') as outfile:\n",
    "    tsvwriter = csv.writer(outfile, delimiter=\"\\t\")\n",
    "    for offset in xrange(0,seq_count, PAGE_SIZE):\n",
    "        seq_records = api.search_records(rq = seq_query, \n",
    "                                         limit=PAGE_SIZE, offset=offset, \n",
    "                                         fields=fields, fields_exclude=[])\n",
    "        for seq_record in seq_records['items']:\n",
    "            tsvwriter.writerow([seq_record['uuid'], \n",
    "                                seq_record['indexTerms']['recordset'], \n",
    "                                seq_record['data']['dwc:associatedSequences']])"
   ]
  },
  {
   "cell_type": "code",
   "execution_count": 7,
   "metadata": {
    "collapsed": false
   },
   "outputs": [
    {
     "name": "stdout",
     "output_type": "stream",
     "text": [
      "                                                            recordset uuid  \\\n",
      "specimen uuid                                                                \n",
      "661df25d-8663-4dd2-a9fb-12941e55efe6  fcbcb214-cd62-4453-af56-b4b49161a261   \n",
      "1b5e679a-ced4-45f7-83c6-d81ba72b6ea6  fcbcb214-cd62-4453-af56-b4b49161a261   \n",
      "c6a0379d-6919-4624-a54f-0bf1c7e82318  fcbcb214-cd62-4453-af56-b4b49161a261   \n",
      "01eb3840-f246-49aa-93ca-71400df1a044  fcbcb214-cd62-4453-af56-b4b49161a261   \n",
      "ac37322c-276d-4fbc-80d8-680510a17d8c  fcbcb214-cd62-4453-af56-b4b49161a261   \n",
      "\n",
      "                                                               associatedSequence field  \n",
      "specimen uuid                                                                            \n",
      "661df25d-8663-4dd2-a9fb-12941e55efe6  http://www.ncbi.nlm.nih.gov/nuccore/JN042326; ...  \n",
      "1b5e679a-ced4-45f7-83c6-d81ba72b6ea6         http://www.ncbi.nlm.nih.gov/nuccore/U65280  \n",
      "c6a0379d-6919-4624-a54f-0bf1c7e82318       http://www.ncbi.nlm.nih.gov/nuccore/GQ175238  \n",
      "01eb3840-f246-49aa-93ca-71400df1a044         http://www.ncbi.nlm.nih.gov/nuccore/U65270  \n",
      "ac37322c-276d-4fbc-80d8-680510a17d8c       http://www.ncbi.nlm.nih.gov/nuccore/GQ175236  \n"
     ]
    }
   ],
   "source": [
    "import pandas as pd\n",
    "import numpy as np\n",
    "\n",
    "columns = [\"specimen uuid\", \"recordset uuid\",\"associatedSequence field\"]\n",
    "idigbio_sequences = pd.read_csv('idigbio_seqs_and_recordsets.tsv', names=columns, sep=\"\\t\", index_col=0)\n",
    "print idigbio_sequences.head()"
   ]
  },
  {
   "cell_type": "code",
   "execution_count": 8,
   "metadata": {
    "collapsed": true
   },
   "outputs": [],
   "source": [
    "import re\n",
    "\n",
    "def pull_out_gb_accessions_and_count(seq_string):\n",
    "    pattern = re.compile(\"[a-zA-Z]{1,2}\\-?_?\\d{5,6}\")\n",
    "    matching_accessions = re.findall(pattern, seq_string)\n",
    "    if len(matching_accessions) > 0:\n",
    "        gb_accs = \"|\".join(matching_accessions)\n",
    "        return gb_accs, len(matching_accessions)\n",
    "    return np.nan, 0"
   ]
  },
  {
   "cell_type": "code",
   "execution_count": 9,
   "metadata": {
    "collapsed": true
   },
   "outputs": [],
   "source": [
    "idigbio_sequences['extracted_accessions'], idigbio_sequences['sequence_count'] = \\\n",
    "    zip(*idigbio_sequences['associatedSequence field'].map(pull_out_gb_accessions_and_count))"
   ]
  },
  {
   "cell_type": "code",
   "execution_count": 10,
   "metadata": {
    "collapsed": false
   },
   "outputs": [
    {
     "name": "stdout",
     "output_type": "stream",
     "text": [
      "                                                            recordset uuid  \\\n",
      "specimen uuid                                                                \n",
      "661df25d-8663-4dd2-a9fb-12941e55efe6  fcbcb214-cd62-4453-af56-b4b49161a261   \n",
      "1b5e679a-ced4-45f7-83c6-d81ba72b6ea6  fcbcb214-cd62-4453-af56-b4b49161a261   \n",
      "c6a0379d-6919-4624-a54f-0bf1c7e82318  fcbcb214-cd62-4453-af56-b4b49161a261   \n",
      "01eb3840-f246-49aa-93ca-71400df1a044  fcbcb214-cd62-4453-af56-b4b49161a261   \n",
      "ac37322c-276d-4fbc-80d8-680510a17d8c  fcbcb214-cd62-4453-af56-b4b49161a261   \n",
      "\n",
      "                                                               associatedSequence field  \\\n",
      "specimen uuid                                                                             \n",
      "661df25d-8663-4dd2-a9fb-12941e55efe6  http://www.ncbi.nlm.nih.gov/nuccore/JN042326; ...   \n",
      "1b5e679a-ced4-45f7-83c6-d81ba72b6ea6         http://www.ncbi.nlm.nih.gov/nuccore/U65280   \n",
      "c6a0379d-6919-4624-a54f-0bf1c7e82318       http://www.ncbi.nlm.nih.gov/nuccore/GQ175238   \n",
      "01eb3840-f246-49aa-93ca-71400df1a044         http://www.ncbi.nlm.nih.gov/nuccore/U65270   \n",
      "ac37322c-276d-4fbc-80d8-680510a17d8c       http://www.ncbi.nlm.nih.gov/nuccore/GQ175236   \n",
      "\n",
      "                                                                   extracted_accessions  \\\n",
      "specimen uuid                                                                             \n",
      "661df25d-8663-4dd2-a9fb-12941e55efe6  JN042326|JN042327|JN042415|JN042723|JN042724|J...   \n",
      "1b5e679a-ced4-45f7-83c6-d81ba72b6ea6                                             U65280   \n",
      "c6a0379d-6919-4624-a54f-0bf1c7e82318                                           GQ175238   \n",
      "01eb3840-f246-49aa-93ca-71400df1a044                                             U65270   \n",
      "ac37322c-276d-4fbc-80d8-680510a17d8c                                           GQ175236   \n",
      "\n",
      "                                      sequence_count  \n",
      "specimen uuid                                         \n",
      "661df25d-8663-4dd2-a9fb-12941e55efe6               9  \n",
      "1b5e679a-ced4-45f7-83c6-d81ba72b6ea6               1  \n",
      "c6a0379d-6919-4624-a54f-0bf1c7e82318               1  \n",
      "01eb3840-f246-49aa-93ca-71400df1a044               1  \n",
      "ac37322c-276d-4fbc-80d8-680510a17d8c               1  \n"
     ]
    }
   ],
   "source": [
    "print idigbio_sequences.head()"
   ]
  },
  {
   "cell_type": "code",
   "execution_count": 16,
   "metadata": {
    "collapsed": false
   },
   "outputs": [
    {
     "name": "stdout",
     "output_type": "stream",
     "text": [
      "34185\n"
     ]
    }
   ],
   "source": [
    "print idigbio_sequences['sequence_count'].sum()"
   ]
  },
  {
   "cell_type": "code",
   "execution_count": 15,
   "metadata": {
    "collapsed": false
   },
   "outputs": [
    {
     "data": {
      "text/plain": [
       "<matplotlib.axes._subplots.AxesSubplot at 0x108992b10>"
      ]
     },
     "execution_count": 15,
     "metadata": {},
     "output_type": "execute_result"
    },
    {
     "data": {
      "image/png": "[encoded data removed]",
      "text/plain": [
       "<matplotlib.figure.Figure at 0x1087b6e50>"
      ]
     },
     "metadata": {},
     "output_type": "display_data"
    }
   ],
   "source": [
    "%matplotlib inline\n",
    "\n",
    "from matplotlib import pyplot as plt\n",
    "plt.rcParams['figure.figsize'] = 12, 5\n",
    "\n",
    "plt.style.use('ggplot')\n",
    "\n",
    "vc = idigbio_sequences['sequence_count'].value_counts()\n",
    "vc = vc.sort_index()\n",
    "\n",
    "vc.plot(kind='bar')"
   ]
  },
  {
   "cell_type": "code",
   "execution_count": null,
   "metadata": {
    "collapsed": true
   },
   "outputs": [],
   "source": []
  }
 ],
 "metadata": {
  "kernelspec": {
   "display_name": "Python 2",
   "language": "python",
   "name": "python2"
  },
  "language_info": {
   "codemirror_mode": {
    "name": "ipython",
    "version": 2
   },
   "file_extension": ".py",
   "mimetype": "text/x-python",
   "name": "python",
   "nbconvert_exporter": "python",
   "pygments_lexer": "ipython2",
   "version": "2.7.9"
  }
 },
 "nbformat": 4,
 "nbformat_minor": 0
}
